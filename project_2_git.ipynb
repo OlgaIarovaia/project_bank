{
 "cells": [
  {
   "cell_type": "markdown",
   "id": "37d6d8cc",
   "metadata": {},
   "source": [
    "# Исходные данные\n",
    "\n",
    "Данные, с которыми проводится работа - таблица формата CSV.\n",
    "\n",
    " В таблице присутствует следующая информация:\n",
    " - children — количество детей в семье\n",
    " - days_employed — общий трудовой стаж в днях\n",
    " - dob_years — возраст клиента в годах\n",
    " - education — уровень образования клиента\n",
    " - education_id — идентификатор уровня образования\n",
    " - family_status — семейное положение\n",
    " - family_status_id — идентификатор семейного положения\n",
    " - gender — пол клиента\n",
    " - income_type — тип занятости\n",
    " - debt — имел ли задолженность по возврату кредитов\n",
    " - total_income — ежемесячный доход\n",
    " - purpose — цель получения кредита       "
   ]
  },
  {
   "cell_type": "markdown",
   "id": "ab3aab46",
   "metadata": {},
   "source": [
    "# Задачи исследования\n",
    "\n",
    "Есть ли зависимость между возвратом кредита в срок и:\n",
    " - количеством детей\n",
    " - семейным положением \n",
    " - уровнем дохода \n",
    " - целью кредита "
   ]
  },
  {
   "cell_type": "markdown",
   "id": "26260d7f",
   "metadata": {},
   "source": [
    "# Ход исследования"
   ]
  },
  {
   "cell_type": "markdown",
   "id": "ba79693d",
   "metadata": {},
   "source": [
    "## Обзор данных"
   ]
  },
  {
   "cell_type": "code",
   "execution_count": 1,
   "id": "7373225e",
   "metadata": {},
   "outputs": [],
   "source": [
    "# импорт библиотек\n",
    "\n",
    "import pandas as pd\n",
    "import seaborn\n",
    "import matplotlib.pylab as plt"
   ]
  },
  {
   "cell_type": "code",
   "execution_count": 2,
   "id": "daff5561",
   "metadata": {},
   "outputs": [
    {
     "data": {
      "text/html": [
       "<div>\n",
       "<style scoped>\n",
       "    .dataframe tbody tr th:only-of-type {\n",
       "        vertical-align: middle;\n",
       "    }\n",
       "\n",
       "    .dataframe tbody tr th {\n",
       "        vertical-align: top;\n",
       "    }\n",
       "\n",
       "    .dataframe thead th {\n",
       "        text-align: right;\n",
       "    }\n",
       "</style>\n",
       "<table border=\"1\" class=\"dataframe\">\n",
       "  <thead>\n",
       "    <tr style=\"text-align: right;\">\n",
       "      <th></th>\n",
       "      <th>children</th>\n",
       "      <th>days_employed</th>\n",
       "      <th>dob_years</th>\n",
       "      <th>education</th>\n",
       "      <th>education_id</th>\n",
       "      <th>family_status</th>\n",
       "      <th>family_status_id</th>\n",
       "      <th>gender</th>\n",
       "      <th>income_type</th>\n",
       "      <th>debt</th>\n",
       "      <th>total_income</th>\n",
       "      <th>purpose</th>\n",
       "    </tr>\n",
       "  </thead>\n",
       "  <tbody>\n",
       "    <tr>\n",
       "      <th>0</th>\n",
       "      <td>1</td>\n",
       "      <td>-8437.673028</td>\n",
       "      <td>42</td>\n",
       "      <td>высшее</td>\n",
       "      <td>0</td>\n",
       "      <td>женат / замужем</td>\n",
       "      <td>0</td>\n",
       "      <td>F</td>\n",
       "      <td>сотрудник</td>\n",
       "      <td>0</td>\n",
       "      <td>253875.639453</td>\n",
       "      <td>покупка жилья</td>\n",
       "    </tr>\n",
       "    <tr>\n",
       "      <th>1</th>\n",
       "      <td>1</td>\n",
       "      <td>-4024.803754</td>\n",
       "      <td>36</td>\n",
       "      <td>среднее</td>\n",
       "      <td>1</td>\n",
       "      <td>женат / замужем</td>\n",
       "      <td>0</td>\n",
       "      <td>F</td>\n",
       "      <td>сотрудник</td>\n",
       "      <td>0</td>\n",
       "      <td>112080.014102</td>\n",
       "      <td>приобретение автомобиля</td>\n",
       "    </tr>\n",
       "    <tr>\n",
       "      <th>2</th>\n",
       "      <td>0</td>\n",
       "      <td>-5623.422610</td>\n",
       "      <td>33</td>\n",
       "      <td>Среднее</td>\n",
       "      <td>1</td>\n",
       "      <td>женат / замужем</td>\n",
       "      <td>0</td>\n",
       "      <td>M</td>\n",
       "      <td>сотрудник</td>\n",
       "      <td>0</td>\n",
       "      <td>145885.952297</td>\n",
       "      <td>покупка жилья</td>\n",
       "    </tr>\n",
       "    <tr>\n",
       "      <th>3</th>\n",
       "      <td>3</td>\n",
       "      <td>-4124.747207</td>\n",
       "      <td>32</td>\n",
       "      <td>среднее</td>\n",
       "      <td>1</td>\n",
       "      <td>женат / замужем</td>\n",
       "      <td>0</td>\n",
       "      <td>M</td>\n",
       "      <td>сотрудник</td>\n",
       "      <td>0</td>\n",
       "      <td>267628.550329</td>\n",
       "      <td>дополнительное образование</td>\n",
       "    </tr>\n",
       "    <tr>\n",
       "      <th>4</th>\n",
       "      <td>0</td>\n",
       "      <td>340266.072047</td>\n",
       "      <td>53</td>\n",
       "      <td>среднее</td>\n",
       "      <td>1</td>\n",
       "      <td>гражданский брак</td>\n",
       "      <td>1</td>\n",
       "      <td>F</td>\n",
       "      <td>пенсионер</td>\n",
       "      <td>0</td>\n",
       "      <td>158616.077870</td>\n",
       "      <td>сыграть свадьбу</td>\n",
       "    </tr>\n",
       "    <tr>\n",
       "      <th>5</th>\n",
       "      <td>0</td>\n",
       "      <td>-926.185831</td>\n",
       "      <td>27</td>\n",
       "      <td>высшее</td>\n",
       "      <td>0</td>\n",
       "      <td>гражданский брак</td>\n",
       "      <td>1</td>\n",
       "      <td>M</td>\n",
       "      <td>компаньон</td>\n",
       "      <td>0</td>\n",
       "      <td>255763.565419</td>\n",
       "      <td>покупка жилья</td>\n",
       "    </tr>\n",
       "    <tr>\n",
       "      <th>6</th>\n",
       "      <td>0</td>\n",
       "      <td>-2879.202052</td>\n",
       "      <td>43</td>\n",
       "      <td>высшее</td>\n",
       "      <td>0</td>\n",
       "      <td>женат / замужем</td>\n",
       "      <td>0</td>\n",
       "      <td>F</td>\n",
       "      <td>компаньон</td>\n",
       "      <td>0</td>\n",
       "      <td>240525.971920</td>\n",
       "      <td>операции с жильем</td>\n",
       "    </tr>\n",
       "    <tr>\n",
       "      <th>7</th>\n",
       "      <td>0</td>\n",
       "      <td>-152.779569</td>\n",
       "      <td>50</td>\n",
       "      <td>СРЕДНЕЕ</td>\n",
       "      <td>1</td>\n",
       "      <td>женат / замужем</td>\n",
       "      <td>0</td>\n",
       "      <td>M</td>\n",
       "      <td>сотрудник</td>\n",
       "      <td>0</td>\n",
       "      <td>135823.934197</td>\n",
       "      <td>образование</td>\n",
       "    </tr>\n",
       "    <tr>\n",
       "      <th>8</th>\n",
       "      <td>2</td>\n",
       "      <td>-6929.865299</td>\n",
       "      <td>35</td>\n",
       "      <td>ВЫСШЕЕ</td>\n",
       "      <td>0</td>\n",
       "      <td>гражданский брак</td>\n",
       "      <td>1</td>\n",
       "      <td>F</td>\n",
       "      <td>сотрудник</td>\n",
       "      <td>0</td>\n",
       "      <td>95856.832424</td>\n",
       "      <td>на проведение свадьбы</td>\n",
       "    </tr>\n",
       "    <tr>\n",
       "      <th>9</th>\n",
       "      <td>0</td>\n",
       "      <td>-2188.756445</td>\n",
       "      <td>41</td>\n",
       "      <td>среднее</td>\n",
       "      <td>1</td>\n",
       "      <td>женат / замужем</td>\n",
       "      <td>0</td>\n",
       "      <td>M</td>\n",
       "      <td>сотрудник</td>\n",
       "      <td>0</td>\n",
       "      <td>144425.938277</td>\n",
       "      <td>покупка жилья для семьи</td>\n",
       "    </tr>\n",
       "  </tbody>\n",
       "</table>\n",
       "</div>"
      ],
      "text/plain": [
       "   children  days_employed  dob_years education  education_id  \\\n",
       "0         1   -8437.673028         42    высшее             0   \n",
       "1         1   -4024.803754         36   среднее             1   \n",
       "2         0   -5623.422610         33   Среднее             1   \n",
       "3         3   -4124.747207         32   среднее             1   \n",
       "4         0  340266.072047         53   среднее             1   \n",
       "5         0    -926.185831         27    высшее             0   \n",
       "6         0   -2879.202052         43    высшее             0   \n",
       "7         0    -152.779569         50   СРЕДНЕЕ             1   \n",
       "8         2   -6929.865299         35    ВЫСШЕЕ             0   \n",
       "9         0   -2188.756445         41   среднее             1   \n",
       "\n",
       "      family_status  family_status_id gender income_type  debt   total_income  \\\n",
       "0   женат / замужем                 0      F   сотрудник     0  253875.639453   \n",
       "1   женат / замужем                 0      F   сотрудник     0  112080.014102   \n",
       "2   женат / замужем                 0      M   сотрудник     0  145885.952297   \n",
       "3   женат / замужем                 0      M   сотрудник     0  267628.550329   \n",
       "4  гражданский брак                 1      F   пенсионер     0  158616.077870   \n",
       "5  гражданский брак                 1      M   компаньон     0  255763.565419   \n",
       "6   женат / замужем                 0      F   компаньон     0  240525.971920   \n",
       "7   женат / замужем                 0      M   сотрудник     0  135823.934197   \n",
       "8  гражданский брак                 1      F   сотрудник     0   95856.832424   \n",
       "9   женат / замужем                 0      M   сотрудник     0  144425.938277   \n",
       "\n",
       "                      purpose  \n",
       "0               покупка жилья  \n",
       "1     приобретение автомобиля  \n",
       "2               покупка жилья  \n",
       "3  дополнительное образование  \n",
       "4             сыграть свадьбу  \n",
       "5               покупка жилья  \n",
       "6           операции с жильем  \n",
       "7                 образование  \n",
       "8       на проведение свадьбы  \n",
       "9     покупка жилья для семьи  "
      ]
     },
     "metadata": {},
     "output_type": "display_data"
    }
   ],
   "source": [
    "data = pd.read_csv('data.csv')\n",
    "\n",
    "display(data.head(10))"
   ]
  },
  {
   "cell_type": "code",
   "execution_count": 3,
   "id": "2483abae",
   "metadata": {},
   "outputs": [
    {
     "name": "stdout",
     "output_type": "stream",
     "text": [
      "<class 'pandas.core.frame.DataFrame'>\n",
      "RangeIndex: 21525 entries, 0 to 21524\n",
      "Data columns (total 12 columns):\n",
      " #   Column            Non-Null Count  Dtype  \n",
      "---  ------            --------------  -----  \n",
      " 0   children          21525 non-null  int64  \n",
      " 1   days_employed     19351 non-null  float64\n",
      " 2   dob_years         21525 non-null  int64  \n",
      " 3   education         21525 non-null  object \n",
      " 4   education_id      21525 non-null  int64  \n",
      " 5   family_status     21525 non-null  object \n",
      " 6   family_status_id  21525 non-null  int64  \n",
      " 7   gender            21525 non-null  object \n",
      " 8   income_type       21525 non-null  object \n",
      " 9   debt              21525 non-null  int64  \n",
      " 10  total_income      19351 non-null  float64\n",
      " 11  purpose           21525 non-null  object \n",
      "dtypes: float64(2), int64(5), object(5)\n",
      "memory usage: 2.0+ MB\n"
     ]
    }
   ],
   "source": [
    "data.info()"
   ]
  },
  {
   "cell_type": "markdown",
   "id": "aea76463",
   "metadata": {},
   "source": [
    "<div class=\"alert alert-info\">\n",
    "\n",
    "Необходима работа над пропусками, аномальными значениями стажа (отрицательными), а также привод значений в колонке образование к единому регистру для дальшейшей работы.\n",
    "    \n",
    "Для проведения исследования также объединим уровень доходов и цель кредита в категории.\n"
   ]
  },
  {
   "cell_type": "markdown",
   "id": "cf994816",
   "metadata": {},
   "source": [
    "## Предобработка данных"
   ]
  },
  {
   "cell_type": "markdown",
   "id": "a60d2e05",
   "metadata": {},
   "source": [
    "###  Пропуски и аномальные значения"
   ]
  },
  {
   "cell_type": "code",
   "execution_count": 4,
   "id": "87597f8f",
   "metadata": {},
   "outputs": [
    {
     "name": "stdout",
     "output_type": "stream",
     "text": [
      "children               0\n",
      "days_employed       2174\n",
      "dob_years              0\n",
      "education              0\n",
      "education_id           0\n",
      "family_status          0\n",
      "family_status_id       0\n",
      "gender                 0\n",
      "income_type            0\n",
      "debt                   0\n",
      "total_income        2174\n",
      "purpose                0\n",
      "dtype: int64\n"
     ]
    }
   ],
   "source": [
    "# общее количество пропусков\n",
    "print(data.isna().sum())"
   ]
  },
  {
   "cell_type": "code",
   "execution_count": 5,
   "id": "48f6d8d5",
   "metadata": {},
   "outputs": [
    {
     "data": {
      "text/plain": [
       "0"
      ]
     },
     "execution_count": 5,
     "metadata": {},
     "output_type": "execute_result"
    }
   ],
   "source": [
    "# работа с пропусками в total_income - замена медианными значениями исходя из типа занятости\n",
    "\n",
    "for a in data['income_type'].unique():\n",
    "    # Сотрируем датасет, тип занятости-(а) и доход пропущен\n",
    "    # Заполняем отсортированные строки медианой дохода по необходимому типу занятости\n",
    "    data.loc[(data['income_type'] == a) & (data['total_income'].isna()), 'total_income'] = \\\n",
    "    data.loc[data['income_type'] == a, 'total_income'].median()\n",
    "\n",
    "# повторная проверка пропусков\n",
    "data['total_income'].isna().sum()  "
   ]
  },
  {
   "cell_type": "code",
   "execution_count": null,
   "id": "a22a7d00",
   "metadata": {},
   "outputs": [],
   "source": [
    "# Замена вещественного типа данных в столбце total_income на целочисленный\n",
    "data['total_income'] = data['total_income'].astype('int')"
   ]
  },
  {
   "cell_type": "code",
   "execution_count": 6,
   "id": "bf685fb8",
   "metadata": {},
   "outputs": [
    {
     "name": "stdout",
     "output_type": "stream",
     "text": [
      "[-8437.67302776 -4024.80375385 -5623.42261023 ... -2113.3468877\n",
      " -3112.4817052  -1984.50758853]\n"
     ]
    }
   ],
   "source": [
    "#провека значений колонки days_employed\n",
    "print(data['days_employed'].unique())"
   ]
  },
  {
   "cell_type": "code",
   "execution_count": 7,
   "id": "6eb930d1",
   "metadata": {},
   "outputs": [],
   "source": [
    "# обработка аномальных значений - минусовых дней стажа (превращаем в положительные числа модулем)\n",
    "data['days_employed'] = data['days_employed'].abs()"
   ]
  },
  {
   "cell_type": "code",
   "execution_count": 8,
   "id": "4b941122",
   "metadata": {},
   "outputs": [
    {
     "name": "stdout",
     "output_type": "stream",
     "text": [
      "income_type\n",
      "безработный        366413.652744\n",
      "в декрете            3296.759962\n",
      "госслужащий          2689.368353\n",
      "компаньон            1547.382223\n",
      "пенсионер          365213.306266\n",
      "предприниматель       520.848083\n",
      "сотрудник            1574.202821\n",
      "студент               578.751554\n",
      "Name: days_employed, dtype: float64\n"
     ]
    }
   ],
   "source": [
    "# медианное значение трудового стажа для каждого типа занятости\n",
    "median = data.groupby('income_type')['days_employed'].median()\n",
    "print(median)"
   ]
  },
  {
   "cell_type": "code",
   "execution_count": 11,
   "id": "6efd309c",
   "metadata": {},
   "outputs": [],
   "source": [
    "# работа с пропусками в days_employed - замена медианными значениями исходя из типа занятости\n",
    "for b in data['income_type'].unique():\n",
    "    # Сотрируем датасет - где тип занятости -(b) и количество рабочих дней пропущено\n",
    "    # Заполняем отсортированные строки медианой дней по необходимому типу занятости\n",
    "    data.loc[(data['income_type'] == b)&(data['days_employed'].isna()), 'days_employed'] = \\\n",
    "    data.loc[data['income_type'] == b, 'days_employed'].median()"
   ]
  },
  {
   "cell_type": "code",
   "execution_count": 9,
   "id": "4df54065",
   "metadata": {},
   "outputs": [
    {
     "name": "stdout",
     "output_type": "stream",
     "text": [
      "[ 1  0  3  2 -1  4 20  5]\n"
     ]
    }
   ],
   "source": [
    "# перечень уникальных значений столбца children\n",
    "print(data['children'].unique())"
   ]
  },
  {
   "cell_type": "code",
   "execution_count": 10,
   "id": "940a4953",
   "metadata": {},
   "outputs": [
    {
     "name": "stdout",
     "output_type": "stream",
     "text": [
      "[1 0 3 2 4 5]\n"
     ]
    }
   ],
   "source": [
    "# удаляем строки с аномальными значениями\n",
    "# index - указывает, что необхоимо удалить строки\n",
    "data = data.drop(data.loc[(data['children'] == 20) | (data['children'] == -1)].index)\n",
    "print(data['children'].unique())"
   ]
  },
  {
   "cell_type": "code",
   "execution_count": 12,
   "id": "5aabd23d",
   "metadata": {},
   "outputs": [
    {
     "name": "stdout",
     "output_type": "stream",
     "text": [
      "children            0\n",
      "days_employed       0\n",
      "dob_years           0\n",
      "education           0\n",
      "education_id        0\n",
      "family_status       0\n",
      "family_status_id    0\n",
      "gender              0\n",
      "income_type         0\n",
      "debt                0\n",
      "total_income        0\n",
      "purpose             0\n",
      "dtype: int64\n"
     ]
    }
   ],
   "source": [
    "# проверяем остались ли пропуски в датасете\n",
    "print(data.isna().sum())"
   ]
  },
  {
   "cell_type": "markdown",
   "id": "d28b1b9c",
   "metadata": {},
   "source": [
    "### Дубликаты "
   ]
  },
  {
   "cell_type": "code",
   "execution_count": 14,
   "id": "cf2d915c",
   "metadata": {},
   "outputs": [
    {
     "name": "stdout",
     "output_type": "stream",
     "text": [
      "['высшее' 'среднее' 'неоконченное высшее' 'начальное' 'ученая степень']\n"
     ]
    }
   ],
   "source": [
    "# в колонке строчные и прописные буквы - приводим все к нижнему регистру\n",
    "data['education'] = data['education'].str.lower()\n",
    "print(data['education'].unique())"
   ]
  },
  {
   "cell_type": "code",
   "execution_count": 15,
   "id": "1b8e0e8c",
   "metadata": {},
   "outputs": [
    {
     "name": "stdout",
     "output_type": "stream",
     "text": [
      "['женат / замужем' 'гражданский брак' 'вдовец / вдова' 'в разводе'\n",
      " 'Не женат / не замужем']\n",
      "['F' 'M' 'XNA']\n",
      "['сотрудник' 'пенсионер' 'компаньон' 'госслужащий' 'безработный'\n",
      " 'предприниматель' 'студент' 'в декрете']\n",
      "['покупка жилья' 'приобретение автомобиля' 'дополнительное образование'\n",
      " 'сыграть свадьбу' 'операции с жильем' 'образование'\n",
      " 'на проведение свадьбы' 'покупка жилья для семьи' 'покупка недвижимости'\n",
      " 'покупка коммерческой недвижимости' 'покупка жилой недвижимости'\n",
      " 'строительство собственной недвижимости' 'недвижимость'\n",
      " 'строительство недвижимости' 'на покупку подержанного автомобиля'\n",
      " 'на покупку своего автомобиля' 'операции с коммерческой недвижимостью'\n",
      " 'строительство жилой недвижимости' 'жилье'\n",
      " 'операции со своей недвижимостью' 'автомобили' 'заняться образованием'\n",
      " 'сделка с подержанным автомобилем' 'получение образования' 'автомобиль'\n",
      " 'свадьба' 'получение дополнительного образования' 'покупка своего жилья'\n",
      " 'операции с недвижимостью' 'получение высшего образования'\n",
      " 'свой автомобиль' 'сделка с автомобилем' 'профильное образование'\n",
      " 'высшее образование' 'покупка жилья для сдачи' 'на покупку автомобиля'\n",
      " 'ремонт жилью' 'заняться высшим образованием']\n"
     ]
    }
   ],
   "source": [
    "# проверка остальных столбцов\n",
    "print(data['family_status'].unique())\n",
    "print(data['gender'].unique())\n",
    "print(data['income_type'].unique())\n",
    "print(data['purpose'].unique())"
   ]
  },
  {
   "cell_type": "code",
   "execution_count": 16,
   "id": "dc90517b",
   "metadata": {},
   "outputs": [
    {
     "name": "stdout",
     "output_type": "stream",
     "text": [
      "71\n",
      "0\n"
     ]
    }
   ],
   "source": [
    "# вывод и удаление строк-дубликатов\n",
    "print(data.duplicated().sum())\n",
    "data = data.drop_duplicates().reset_index(drop=True)\n",
    "print(data.duplicated().sum())"
   ]
  },
  {
   "cell_type": "markdown",
   "id": "8f635c98",
   "metadata": {},
   "source": [
    "### Категоризация данных "
   ]
  },
  {
   "cell_type": "markdown",
   "id": "b648389e",
   "metadata": {},
   "source": [
    "<div class=\"alert alert-info\">\n",
    "\n",
    "Диапазон для дохода:\n",
    " - 0–30000 — 'E';\n",
    " - 30001–50000 — 'D';\n",
    " - 50001–200000 — 'C';\n",
    " - 200001–1000000 — 'B';\n",
    " - 1000001 и выше — 'A'."
   ]
  },
  {
   "cell_type": "code",
   "execution_count": 21,
   "id": "be173cd8",
   "metadata": {},
   "outputs": [],
   "source": [
    "# создаем функцию для создания нового столбца с категориями;\n",
    "# внутри нее сразу пишем путь к числам из колонки, которые будет перебирать\n",
    "\n",
    "def categorize_income(row):\n",
    "    income = row['total_income']\n",
    "    if (income > 0) and (income <= 30000):\n",
    "        return 'E'\n",
    "    if income <= 50000:\n",
    "        return 'D'\n",
    "    if income <= 200000:\n",
    "        return 'C'\n",
    "    if income <= 1000000:\n",
    "        return 'B'\n",
    "    return 'A'"
   ]
  },
  {
   "cell_type": "code",
   "execution_count": 22,
   "id": "1e794767",
   "metadata": {},
   "outputs": [
    {
     "name": "stdout",
     "output_type": "stream",
     "text": [
      "0        B\n",
      "1        C\n",
      "2        C\n",
      "3        B\n",
      "4        C\n",
      "        ..\n",
      "21326    B\n",
      "21327    C\n",
      "21328    C\n",
      "21329    B\n",
      "21330    C\n",
      "Name: total_income_category, Length: 21331, dtype: object\n"
     ]
    }
   ],
   "source": [
    "# применяем функцию, помещаем полученные значения в новый столбец\n",
    "data['total_income_category'] = data.apply(categorize_income, axis=1)\n",
    "\n",
    "print(data['total_income_category'])"
   ]
  },
  {
   "cell_type": "code",
   "execution_count": 18,
   "id": "4a6a4cbe",
   "metadata": {},
   "outputs": [
    {
     "name": "stdout",
     "output_type": "stream",
     "text": [
      "['покупка жилья' 'приобретение автомобиля' 'дополнительное образование'\n",
      " 'сыграть свадьбу' 'операции с жильем' 'образование'\n",
      " 'на проведение свадьбы' 'покупка жилья для семьи' 'покупка недвижимости'\n",
      " 'покупка коммерческой недвижимости' 'покупка жилой недвижимости'\n",
      " 'строительство собственной недвижимости' 'недвижимость'\n",
      " 'строительство недвижимости' 'на покупку подержанного автомобиля'\n",
      " 'на покупку своего автомобиля' 'операции с коммерческой недвижимостью'\n",
      " 'строительство жилой недвижимости' 'жилье'\n",
      " 'операции со своей недвижимостью' 'автомобили' 'заняться образованием'\n",
      " 'сделка с подержанным автомобилем' 'получение образования' 'автомобиль'\n",
      " 'свадьба' 'получение дополнительного образования' 'покупка своего жилья'\n",
      " 'операции с недвижимостью' 'получение высшего образования'\n",
      " 'свой автомобиль' 'сделка с автомобилем' 'профильное образование'\n",
      " 'высшее образование' 'покупка жилья для сдачи' 'на покупку автомобиля'\n",
      " 'ремонт жилью' 'заняться высшим образованием']\n"
     ]
    }
   ],
   "source": [
    "# уникальные значения цели кредита\n",
    "print(data['purpose'].unique())"
   ]
  },
  {
   "cell_type": "markdown",
   "id": "d0cba8ef",
   "metadata": {},
   "source": [
    "<div class=\"alert alert-info\">\n",
    "\n",
    "Категории для группировки purpose_category - \n",
    " - операции с автомобилем, \n",
    " - операции с недвижимостью, \n",
    " - проведение свадьбы, \n",
    " - получение образования"
   ]
  },
  {
   "cell_type": "code",
   "execution_count": 20,
   "id": "b2b97af8",
   "metadata": {},
   "outputs": [],
   "source": [
    "# Функция, которая на основании данных из столбца purpose сформирует новый столбец purpose_category, исходя из кате\n",
    "\n",
    "def categorize_purpose(row):\n",
    "    target = row['purpose']\n",
    "    \n",
    "    if 'авто' in target:\n",
    "        return 'операции с автомобилем'\n",
    "    if 'жил' in target or 'недвижим' in target:\n",
    "        return 'операции с недвижимостью'\n",
    "    if 'свадьб' in target:\n",
    "        return 'проведение свадьбы'\n",
    "    if 'образовани'in target:\n",
    "        return 'получение образования'"
   ]
  },
  {
   "cell_type": "code",
   "execution_count": 23,
   "id": "641f4ebe",
   "metadata": {},
   "outputs": [
    {
     "data": {
      "text/html": [
       "<div>\n",
       "<style scoped>\n",
       "    .dataframe tbody tr th:only-of-type {\n",
       "        vertical-align: middle;\n",
       "    }\n",
       "\n",
       "    .dataframe tbody tr th {\n",
       "        vertical-align: top;\n",
       "    }\n",
       "\n",
       "    .dataframe thead th {\n",
       "        text-align: right;\n",
       "    }\n",
       "</style>\n",
       "<table border=\"1\" class=\"dataframe\">\n",
       "  <thead>\n",
       "    <tr style=\"text-align: right;\">\n",
       "      <th></th>\n",
       "      <th>children</th>\n",
       "      <th>days_employed</th>\n",
       "      <th>dob_years</th>\n",
       "      <th>education</th>\n",
       "      <th>education_id</th>\n",
       "      <th>family_status</th>\n",
       "      <th>family_status_id</th>\n",
       "      <th>gender</th>\n",
       "      <th>income_type</th>\n",
       "      <th>debt</th>\n",
       "      <th>total_income</th>\n",
       "      <th>purpose</th>\n",
       "      <th>total_income_category</th>\n",
       "      <th>purpose_category</th>\n",
       "    </tr>\n",
       "  </thead>\n",
       "  <tbody>\n",
       "    <tr>\n",
       "      <th>0</th>\n",
       "      <td>1</td>\n",
       "      <td>8437.673028</td>\n",
       "      <td>42</td>\n",
       "      <td>высшее</td>\n",
       "      <td>0</td>\n",
       "      <td>женат / замужем</td>\n",
       "      <td>0</td>\n",
       "      <td>F</td>\n",
       "      <td>сотрудник</td>\n",
       "      <td>0</td>\n",
       "      <td>253875.639453</td>\n",
       "      <td>покупка жилья</td>\n",
       "      <td>B</td>\n",
       "      <td>операции с недвижимостью</td>\n",
       "    </tr>\n",
       "    <tr>\n",
       "      <th>1</th>\n",
       "      <td>1</td>\n",
       "      <td>4024.803754</td>\n",
       "      <td>36</td>\n",
       "      <td>среднее</td>\n",
       "      <td>1</td>\n",
       "      <td>женат / замужем</td>\n",
       "      <td>0</td>\n",
       "      <td>F</td>\n",
       "      <td>сотрудник</td>\n",
       "      <td>0</td>\n",
       "      <td>112080.014102</td>\n",
       "      <td>приобретение автомобиля</td>\n",
       "      <td>C</td>\n",
       "      <td>операции с автомобилем</td>\n",
       "    </tr>\n",
       "    <tr>\n",
       "      <th>2</th>\n",
       "      <td>0</td>\n",
       "      <td>5623.422610</td>\n",
       "      <td>33</td>\n",
       "      <td>среднее</td>\n",
       "      <td>1</td>\n",
       "      <td>женат / замужем</td>\n",
       "      <td>0</td>\n",
       "      <td>M</td>\n",
       "      <td>сотрудник</td>\n",
       "      <td>0</td>\n",
       "      <td>145885.952297</td>\n",
       "      <td>покупка жилья</td>\n",
       "      <td>C</td>\n",
       "      <td>операции с недвижимостью</td>\n",
       "    </tr>\n",
       "    <tr>\n",
       "      <th>3</th>\n",
       "      <td>3</td>\n",
       "      <td>4124.747207</td>\n",
       "      <td>32</td>\n",
       "      <td>среднее</td>\n",
       "      <td>1</td>\n",
       "      <td>женат / замужем</td>\n",
       "      <td>0</td>\n",
       "      <td>M</td>\n",
       "      <td>сотрудник</td>\n",
       "      <td>0</td>\n",
       "      <td>267628.550329</td>\n",
       "      <td>дополнительное образование</td>\n",
       "      <td>B</td>\n",
       "      <td>получение образования</td>\n",
       "    </tr>\n",
       "    <tr>\n",
       "      <th>4</th>\n",
       "      <td>0</td>\n",
       "      <td>340266.072047</td>\n",
       "      <td>53</td>\n",
       "      <td>среднее</td>\n",
       "      <td>1</td>\n",
       "      <td>гражданский брак</td>\n",
       "      <td>1</td>\n",
       "      <td>F</td>\n",
       "      <td>пенсионер</td>\n",
       "      <td>0</td>\n",
       "      <td>158616.077870</td>\n",
       "      <td>сыграть свадьбу</td>\n",
       "      <td>C</td>\n",
       "      <td>проведение свадьбы</td>\n",
       "    </tr>\n",
       "  </tbody>\n",
       "</table>\n",
       "</div>"
      ],
      "text/plain": [
       "   children  days_employed  dob_years education  education_id  \\\n",
       "0         1    8437.673028         42    высшее             0   \n",
       "1         1    4024.803754         36   среднее             1   \n",
       "2         0    5623.422610         33   среднее             1   \n",
       "3         3    4124.747207         32   среднее             1   \n",
       "4         0  340266.072047         53   среднее             1   \n",
       "\n",
       "      family_status  family_status_id gender income_type  debt   total_income  \\\n",
       "0   женат / замужем                 0      F   сотрудник     0  253875.639453   \n",
       "1   женат / замужем                 0      F   сотрудник     0  112080.014102   \n",
       "2   женат / замужем                 0      M   сотрудник     0  145885.952297   \n",
       "3   женат / замужем                 0      M   сотрудник     0  267628.550329   \n",
       "4  гражданский брак                 1      F   пенсионер     0  158616.077870   \n",
       "\n",
       "                      purpose total_income_category          purpose_category  \n",
       "0               покупка жилья                     B  операции с недвижимостью  \n",
       "1     приобретение автомобиля                     C    операции с автомобилем  \n",
       "2               покупка жилья                     C  операции с недвижимостью  \n",
       "3  дополнительное образование                     B     получение образования  \n",
       "4             сыграть свадьбу                     C        проведение свадьбы  "
      ]
     },
     "metadata": {},
     "output_type": "display_data"
    }
   ],
   "source": [
    "# применяем функцию, помещаем полученные значения в новый столбец\n",
    "data['purpose_category']=data.apply(categorize_purpose, axis=1)\n",
    "\n",
    "display(data.head())"
   ]
  },
  {
   "cell_type": "markdown",
   "id": "a5e6b2ef",
   "metadata": {},
   "source": [
    "## Проверка гипотез "
   ]
  },
  {
   "cell_type": "markdown",
   "id": "a8d947aa",
   "metadata": {},
   "source": [
    "### Зависимость между количеством детей и возвратом кредита в срок"
   ]
  },
  {
   "cell_type": "code",
   "execution_count": 24,
   "id": "13f9f96f",
   "metadata": {},
   "outputs": [
    {
     "data": {
      "text/plain": [
       "Text(0.5, 1.0, 'Разделение клиентов по наличию задолженностей,\\n где 0 - ее отсутствие, 1 - ее наличие\\n')"
      ]
     },
     "execution_count": 24,
     "metadata": {},
     "output_type": "execute_result"
    },
    {
     "data": {
      "image/png": "[encoded data removed]",
      "text/plain": [
       "<Figure size 432x288 with 1 Axes>"
      ]
     },
     "metadata": {
      "needs_background": "light"
     },
     "output_type": "display_data"
    }
   ],
   "source": [
    "# Сортируем датасет и выводим количество клиентов без задолженностей и с задолженностями\n",
    "\n",
    "data = data.sort_values(by = 'debt')\n",
    "seaborn.barplot(x = data['debt'].unique(), y = data['debt'].value_counts())\n",
    "plt.title('Разделение клиентов по наличию задолженностей,\\n где 0 - ее отсутствие, 1 - ее наличие\\n')"
   ]
  },
  {
   "cell_type": "code",
   "execution_count": 25,
   "id": "8f170814",
   "metadata": {},
   "outputs": [
    {
     "name": "stdout",
     "output_type": "stream",
     "text": [
      "[0 1 2 3 4 5]\n"
     ]
    }
   ],
   "source": [
    "# Узнаем возможное количество детей в датасете, сортируем его по возрастанию\n",
    "\n",
    "data = data.sort_values(by = 'children')\n",
    "print(data['children'].unique())"
   ]
  },
  {
   "cell_type": "code",
   "execution_count": 26,
   "id": "7f57cd79",
   "metadata": {},
   "outputs": [
    {
     "name": "stdout",
     "output_type": "stream",
     "text": [
      "[13028, 4364, 1858, 303, 37, 9]\n"
     ]
    }
   ],
   "source": [
    "# Выводим распределение по отсутствию задолженности и количеству детей\n",
    "\n",
    "no_debt_child = [] # список вернет кол-во клиентов без задолженности по категориям кол-ва детей\n",
    "for a in data['children'].unique():\n",
    "    data_sorted = data.loc[(data['children'] == a) & (data['debt'] == 0)]\n",
    "    no_debt_child.append(data_sorted['debt'].count())\n",
    "    \n",
    "print(no_debt_child)"
   ]
  },
  {
   "cell_type": "code",
   "execution_count": 29,
   "id": "46c1a172",
   "metadata": {},
   "outputs": [
    {
     "name": "stdout",
     "output_type": "stream",
     "text": [
      "[1063, 444, 194, 27, 4, 0]\n"
     ]
    }
   ],
   "source": [
    "# Выводим распределение по наличию задолженности и количеству детей\n",
    "\n",
    "is_debt_child = [] # список вернет кол-во клиентов с задолженностью по категориям кол-ва детей\n",
    "for a in data['children'].unique():\n",
    "    data_sorted = data.loc[(data['children'] == a) & (data['debt'] == 1)]\n",
    "    is_debt_child.append(data_sorted['debt'].count())\n",
    "    \n",
    "print(is_debt_child)    "
   ]
  },
  {
   "cell_type": "code",
   "execution_count": 35,
   "id": "b4da53d2",
   "metadata": {},
   "outputs": [
    {
     "data": {
      "text/plain": [
       "<AxesSubplot:title={'center':'Распределение кол-ва клиентов по показателю задолженности в зависимости от кол-ва детей\\n'}, xlabel='Кол-во детей'>"
      ]
     },
     "execution_count": 35,
     "metadata": {},
     "output_type": "execute_result"
    },
    {
     "data": {
      "image/png": "[encoded data removed]",
      "text/plain": [
       "<Figure size 432x288 with 1 Axes>"
      ]
     },
     "metadata": {
      "needs_background": "light"
     },
     "output_type": "display_data"
    }
   ],
   "source": [
    "# Создаем датафрейм для вывода сравнительной диаграммы\n",
    "\n",
    "d = {'Без задолженности': no_debt_child, 'С задолженностью':is_debt_child}\n",
    "df = pd.DataFrame(data = d)\n",
    "\n",
    "# Строим график\n",
    "df.plot(title='Распределение кол-ва клиентов по показателю задолженности в зависимости от кол-ва детей\\n', \\\n",
    "        kind='bar', xlabel='Кол-во детей')"
   ]
  },
  {
   "cell_type": "markdown",
   "id": "08d2084b",
   "metadata": {},
   "source": [
    "<div class=\"alert alert-info\">\n",
    "\n",
    "Для наглядности и вывода корреляции (как процента клиентов, не возвращающих кредит в срок) построим сводную таблицу"
   ]
  },
  {
   "cell_type": "code",
   "execution_count": 37,
   "id": "b5442d32",
   "metadata": {},
   "outputs": [],
   "source": [
    "# Выведем функцию для построения сводной таблицы\n",
    "\n",
    "def pivot(data1, row1, row2):\n",
    "    data1_pivot = pd.pivot_table(data1, index = row1, aggfunc = {row2:['count', 'sum', 'mean']})\n",
    "    data1_pivot.columns = ['Всего кредитополучателей', 'Доля должников', 'Количество должников']\n",
    "    display(data1_pivot)"
   ]
  },
  {
   "cell_type": "code",
   "execution_count": 44,
   "id": "45e222ca",
   "metadata": {},
   "outputs": [
    {
     "data": {
      "text/html": [
       "<div>\n",
       "<style scoped>\n",
       "    .dataframe tbody tr th:only-of-type {\n",
       "        vertical-align: middle;\n",
       "    }\n",
       "\n",
       "    .dataframe tbody tr th {\n",
       "        vertical-align: top;\n",
       "    }\n",
       "\n",
       "    .dataframe thead th {\n",
       "        text-align: right;\n",
       "    }\n",
       "</style>\n",
       "<table border=\"1\" class=\"dataframe\">\n",
       "  <thead>\n",
       "    <tr style=\"text-align: right;\">\n",
       "      <th></th>\n",
       "      <th>Всего кредитополучателей</th>\n",
       "      <th>Доля должников</th>\n",
       "      <th>Количество должников</th>\n",
       "    </tr>\n",
       "    <tr>\n",
       "      <th>children</th>\n",
       "      <th></th>\n",
       "      <th></th>\n",
       "      <th></th>\n",
       "    </tr>\n",
       "  </thead>\n",
       "  <tbody>\n",
       "    <tr>\n",
       "      <th>0</th>\n",
       "      <td>14091</td>\n",
       "      <td>0.075438</td>\n",
       "      <td>1063</td>\n",
       "    </tr>\n",
       "    <tr>\n",
       "      <th>1</th>\n",
       "      <td>4808</td>\n",
       "      <td>0.092346</td>\n",
       "      <td>444</td>\n",
       "    </tr>\n",
       "    <tr>\n",
       "      <th>2</th>\n",
       "      <td>2052</td>\n",
       "      <td>0.094542</td>\n",
       "      <td>194</td>\n",
       "    </tr>\n",
       "    <tr>\n",
       "      <th>3</th>\n",
       "      <td>330</td>\n",
       "      <td>0.081818</td>\n",
       "      <td>27</td>\n",
       "    </tr>\n",
       "    <tr>\n",
       "      <th>4</th>\n",
       "      <td>41</td>\n",
       "      <td>0.097561</td>\n",
       "      <td>4</td>\n",
       "    </tr>\n",
       "    <tr>\n",
       "      <th>5</th>\n",
       "      <td>9</td>\n",
       "      <td>0.000000</td>\n",
       "      <td>0</td>\n",
       "    </tr>\n",
       "  </tbody>\n",
       "</table>\n",
       "</div>"
      ],
      "text/plain": [
       "          Всего кредитополучателей  Доля должников  Количество должников\n",
       "children                                                                \n",
       "0                            14091        0.075438                  1063\n",
       "1                             4808        0.092346                   444\n",
       "2                             2052        0.094542                   194\n",
       "3                              330        0.081818                    27\n",
       "4                               41        0.097561                     4\n",
       "5                                9        0.000000                     0"
      ]
     },
     "metadata": {},
     "output_type": "display_data"
    }
   ],
   "source": [
    "# Используем функцию \n",
    "\n",
    "pivot(data, 'children', 'debt')"
   ]
  },
  {
   "cell_type": "markdown",
   "id": "2d90dd1a",
   "metadata": {},
   "source": [
    "<div class=\"alert alert-info\">\n",
    "\n",
    "Посмотрим корреляцию для клиентов с детьми и без детей"
   ]
  },
  {
   "cell_type": "code",
   "execution_count": 72,
   "id": "1fc1f871",
   "metadata": {},
   "outputs": [
    {
     "name": "stdout",
     "output_type": "stream",
     "text": [
      "13028\n",
      "1063\n",
      "7.543822297920659\n"
     ]
    }
   ],
   "source": [
    "# Клиенты без детей\n",
    "\n",
    "no_debt_no_child = 0 # клиенты без задолженности\n",
    "data_sorted = data.loc[(data['children'] == 0) & (data['debt'] == 0)]\n",
    "no_debt_no_child += data_sorted['debt'].count()\n",
    "    \n",
    "is_debt_no_child = 0 # клиенты с задоженностью\n",
    "data_sorted = data.loc[(data['children'] == 0) & (data['debt'] == 1)]\n",
    "is_debt_no_child += data_sorted['debt'].count()\n",
    "\n",
    "print(no_debt_no_child)\n",
    "print(is_debt_no_child)\n",
    "\n",
    "no_child_ratio = is_debt_no_child / (no_debt_no_child+is_debt_no_child) * 100 # корреляция\n",
    "print(no_child_ratio) # корреляция"
   ]
  },
  {
   "cell_type": "code",
   "execution_count": 73,
   "id": "9df9fac3",
   "metadata": {},
   "outputs": [
    {
     "name": "stdout",
     "output_type": "stream",
     "text": [
      "6571\n",
      "669\n",
      "9.240331491712707\n"
     ]
    }
   ],
   "source": [
    "# Клиенты с детьми\n",
    "\n",
    "no_debt_is_child = 0 # клиенты без задолженности\n",
    "for a in data['children'].unique():\n",
    "    data_sorted = data.loc[(data['children'] == a) & (data['children'] != 0) & (data['debt'] == 0)]\n",
    "    no_debt_is_child += data_sorted['debt'].count() \n",
    "\n",
    "is_debt_is_child = 0 # клиенты с задолженностью \n",
    "for a in data['children'].unique():\n",
    "    data_sorted = data.loc[(data['children'] == a) & (data['children'] != 0) & (data['debt'] == 1)]\n",
    "    is_debt_is_child += data_sorted['debt'].count()\n",
    "\n",
    "print(no_debt_is_child)\n",
    "print(is_debt_is_child)\n",
    "\n",
    "is_child_ratio = is_debt_is_child / (no_debt_is_child + is_debt_is_child) * 100 # корреляция\n",
    "    \n",
    "print(is_child_ratio)"
   ]
  },
  {
   "cell_type": "code",
   "execution_count": 85,
   "id": "488b13e9",
   "metadata": {},
   "outputs": [
    {
     "data": {
      "text/html": [
       "<div>\n",
       "<style scoped>\n",
       "    .dataframe tbody tr th:only-of-type {\n",
       "        vertical-align: middle;\n",
       "    }\n",
       "\n",
       "    .dataframe tbody tr th {\n",
       "        vertical-align: top;\n",
       "    }\n",
       "\n",
       "    .dataframe thead th {\n",
       "        text-align: right;\n",
       "    }\n",
       "</style>\n",
       "<table border=\"1\" class=\"dataframe\">\n",
       "  <thead>\n",
       "    <tr style=\"text-align: right;\">\n",
       "      <th></th>\n",
       "      <th>Дети</th>\n",
       "      <th>Всего кредитополучателей</th>\n",
       "      <th>Доля должников</th>\n",
       "      <th>Количество должников</th>\n",
       "    </tr>\n",
       "  </thead>\n",
       "  <tbody>\n",
       "    <tr>\n",
       "      <th>0</th>\n",
       "      <td>нет</td>\n",
       "      <td>14091</td>\n",
       "      <td>7.543822</td>\n",
       "      <td>1063</td>\n",
       "    </tr>\n",
       "    <tr>\n",
       "      <th>1</th>\n",
       "      <td>есть</td>\n",
       "      <td>7240</td>\n",
       "      <td>9.240331</td>\n",
       "      <td>669</td>\n",
       "    </tr>\n",
       "  </tbody>\n",
       "</table>\n",
       "</div>"
      ],
      "text/plain": [
       "   Дети  Всего кредитополучателей  Доля должников  Количество должников\n",
       "0   нет                     14091        7.543822                  1063\n",
       "1  есть                      7240        9.240331                   669"
      ]
     },
     "metadata": {},
     "output_type": "display_data"
    }
   ],
   "source": [
    "d = ({'Дети': ['нет','есть'],\\\n",
    "      'Всего кредитополучателей': [(no_debt_no_child+is_debt_no_child), (no_debt_is_child + is_debt_is_child)],\\\n",
    "      'Доля должников' : [no_child_ratio, is_child_ratio], \\\n",
    "      'Количество должников' : [is_debt_no_child, is_debt_is_child]\n",
    "     })\n",
    "df = pd.DataFrame(data=d)\n",
    "display(df)"
   ]
  },
  {
   "cell_type": "markdown",
   "id": "a8568ac1",
   "metadata": {},
   "source": [
    "<div class=\"alert alert-success\" role=\"alert\">\n",
    "    \n",
    " - Количество клиентов без детей в данной выборке в 2 раза выше, чем клиентов, у которых есть дети.\n",
    " \n",
    " - При выводе шанса невозвращения кредита в зависимости от количества детей средний шанс для всех групп составляет около 8%; При этом 0% для клиентов с 5 детьми, однако их общее количество составляет всего 9 человек, поэтому этим можно пренебречь. \n",
    " \n",
    " - Шансы того, что клиент не вернет вовремя кредит, если у него нет детей - 7.5%\n",
    " - Шансы того, что клиент не вернет вовремя кредит, если у него есть дети - 9.2%\n",
    " \n",
    " - Таким образом, нельзя сделать вывод, что наличие и количество детей у клиентов сущесвенно влияет на возврат кредита; однако клиенты с детьми с большей долей вероятности могут не вернуть его в срок."
   ]
  },
  {
   "cell_type": "markdown",
   "id": "5e0d62ef",
   "metadata": {},
   "source": [
    "### Зависимость между семейным положением и возвратом кредита в срок"
   ]
  },
  {
   "cell_type": "code",
   "execution_count": 115,
   "id": "d80635e2",
   "metadata": {},
   "outputs": [
    {
     "data": {
      "text/plain": [
       "family_status          family_status_id\n",
       "женат / замужем        0                   12261\n",
       "гражданский брак       1                    4134\n",
       "Не женат / не замужем  4                    2796\n",
       "в разводе              3                    1189\n",
       "вдовец / вдова         2                     951\n",
       "dtype: int64"
      ]
     },
     "metadata": {},
     "output_type": "display_data"
    }
   ],
   "source": [
    "# Найдем зависимость между семейным статусом и его id\n",
    "\n",
    "data_family = data[['family_status','family_status_id']].value_counts(ascending=False)\n",
    "display(data_family)"
   ]
  },
  {
   "cell_type": "code",
   "execution_count": 122,
   "id": "acc3bf84",
   "metadata": {},
   "outputs": [
    {
     "data": {
      "text/plain": [
       "<AxesSubplot:title={'center':'Распределение кол-ва клиентов по семейному положению\\n'}, xlabel='family_status,family_status_id'>"
      ]
     },
     "execution_count": 122,
     "metadata": {},
     "output_type": "execute_result"
    },
    {
     "data": {
      "image/png": "[encoded data removed]",
      "text/plain": [
       "<Figure size 432x288 with 1 Axes>"
      ]
     },
     "metadata": {
      "needs_background": "light"
     },
     "output_type": "display_data"
    }
   ],
   "source": [
    "# Построим диаграмму\n",
    "\n",
    "data_family.plot(title = 'Распределение кол-ва клиентов по семейному положению\\n', kind='bar')"
   ]
  },
  {
   "cell_type": "code",
   "execution_count": 125,
   "id": "7159f0c1",
   "metadata": {},
   "outputs": [
    {
     "data": {
      "text/html": [
       "<div>\n",
       "<style scoped>\n",
       "    .dataframe tbody tr th:only-of-type {\n",
       "        vertical-align: middle;\n",
       "    }\n",
       "\n",
       "    .dataframe tbody tr th {\n",
       "        vertical-align: top;\n",
       "    }\n",
       "\n",
       "    .dataframe thead th {\n",
       "        text-align: right;\n",
       "    }\n",
       "</style>\n",
       "<table border=\"1\" class=\"dataframe\">\n",
       "  <thead>\n",
       "    <tr style=\"text-align: right;\">\n",
       "      <th></th>\n",
       "      <th>Всего кредитополучателей</th>\n",
       "      <th>Доля должников</th>\n",
       "      <th>Количество должников</th>\n",
       "    </tr>\n",
       "    <tr>\n",
       "      <th>family_status_id</th>\n",
       "      <th></th>\n",
       "      <th></th>\n",
       "      <th></th>\n",
       "    </tr>\n",
       "  </thead>\n",
       "  <tbody>\n",
       "    <tr>\n",
       "      <th>0</th>\n",
       "      <td>12261</td>\n",
       "      <td>0.075606</td>\n",
       "      <td>927</td>\n",
       "    </tr>\n",
       "    <tr>\n",
       "      <th>1</th>\n",
       "      <td>4134</td>\n",
       "      <td>0.093130</td>\n",
       "      <td>385</td>\n",
       "    </tr>\n",
       "    <tr>\n",
       "      <th>2</th>\n",
       "      <td>951</td>\n",
       "      <td>0.066246</td>\n",
       "      <td>63</td>\n",
       "    </tr>\n",
       "    <tr>\n",
       "      <th>3</th>\n",
       "      <td>1189</td>\n",
       "      <td>0.070648</td>\n",
       "      <td>84</td>\n",
       "    </tr>\n",
       "    <tr>\n",
       "      <th>4</th>\n",
       "      <td>2796</td>\n",
       "      <td>0.097639</td>\n",
       "      <td>273</td>\n",
       "    </tr>\n",
       "  </tbody>\n",
       "</table>\n",
       "</div>"
      ],
      "text/plain": [
       "                  Всего кредитополучателей  Доля должников  \\\n",
       "family_status_id                                             \n",
       "0                                    12261        0.075606   \n",
       "1                                     4134        0.093130   \n",
       "2                                      951        0.066246   \n",
       "3                                     1189        0.070648   \n",
       "4                                     2796        0.097639   \n",
       "\n",
       "                  Количество должников  \n",
       "family_status_id                        \n",
       "0                                  927  \n",
       "1                                  385  \n",
       "2                                   63  \n",
       "3                                   84  \n",
       "4                                  273  "
      ]
     },
     "metadata": {},
     "output_type": "display_data"
    }
   ],
   "source": [
    "# Выведем сводную таблицу\n",
    "pivot(data, 'family_status_id', 'debt')"
   ]
  },
  {
   "cell_type": "markdown",
   "id": "95fee3c1",
   "metadata": {},
   "source": [
    "<div class=\"alert alert-info\">\n",
    "    \n",
    "    '0':'женат / замужем',\n",
    "    '1':'гражданский брак',\n",
    "    '2':'вдовец / вдова',\n",
    "    '3':'в разводе',\n",
    "    '4':'Не женат / не замужем'"
   ]
  },
  {
   "cell_type": "markdown",
   "id": "84c5613e",
   "metadata": {},
   "source": [
    "<div class=\"alert alert-success\" role=\"alert\">\n",
    "    \n",
    " - По полученным данным видно, что клиенты, имеющие семейное положение 'не женат\\не замужем' имеют самый высокий шанс не вернуть кредит.\n",
    " - Второе место по самой высокой вероятности не вернуть вовремя кредит занимают клиенты с семейным статусом 'гражданский брак'.\n",
    " - 'Вдовцы\\вдовы' реже всего опаздывают с выплатой кредита, однако группа самая малочисленная, так что делать по ней выводы достаточно сложно\n",
    " - Самая многочисленная группа -'женат / замужем' имеет риск не вернуть кредит чуть ниже среднего.\n",
    "    \n",
    " - Общий шанс невыплаты кредита в срок по семейному положению составляет около 8%"
   ]
  },
  {
   "cell_type": "markdown",
   "id": "d22892ec",
   "metadata": {},
   "source": [
    "### Зависимость между уровнем дохода и возвратом кредита в срок"
   ]
  },
  {
   "cell_type": "markdown",
   "id": "23302d92",
   "metadata": {},
   "source": [
    "<div class=\"alert alert-info\">\n",
    "\n",
    "Напомним диапозон дохода:  \n",
    "    \n",
    " - 0–30000 — 'E';\n",
    " - 30001–50000 — 'D';\n",
    " - 50001–200000 — 'C';\n",
    " - 200001–1000000 — 'B';\n",
    " - 1000001 и выше — 'A'."
   ]
  },
  {
   "cell_type": "code",
   "execution_count": 127,
   "id": "53c0b7f9",
   "metadata": {},
   "outputs": [
    {
     "name": "stdout",
     "output_type": "stream",
     "text": [
      "['A' 'B' 'C' 'D' 'E']\n"
     ]
    }
   ],
   "source": [
    "# Выведем список возможных катеторий по убыванию дохода\n",
    "data = data.sort_values(by = 'total_income_category')\n",
    "print(data['total_income_category'].unique())"
   ]
  },
  {
   "cell_type": "code",
   "execution_count": 128,
   "id": "394a6361",
   "metadata": {},
   "outputs": [
    {
     "name": "stdout",
     "output_type": "stream",
     "text": [
      "[25, 5014, 15921, 349, 22]\n"
     ]
    }
   ],
   "source": [
    "# Посмотрим распределение клиентов по уровню дохода\n",
    "\n",
    "client_income = [] # список вернет кол-во клиентов по уровню дохода\n",
    "for t in data['total_income_category'].unique():\n",
    "    data_sorted = data.loc[data['total_income_category'] == t, 'total_income_category'].count()\n",
    "    client_income.append(data_sorted)\n",
    "    \n",
    "print(client_income)    "
   ]
  },
  {
   "cell_type": "code",
   "execution_count": 129,
   "id": "a0a153ec",
   "metadata": {},
   "outputs": [
    {
     "data": {
      "text/plain": [
       "Text(0.5, 1.0, 'Распределение уровня дохода по клиентам\\n')"
      ]
     },
     "execution_count": 129,
     "metadata": {},
     "output_type": "execute_result"
    },
    {
     "data": {
      "image/png": "[encoded data removed]",
      "text/plain": [
       "<Figure size 432x288 with 1 Axes>"
      ]
     },
     "metadata": {
      "needs_background": "light"
     },
     "output_type": "display_data"
    }
   ],
   "source": [
    "seaborn.barplot(x = data['total_income_category'].unique(), y = client_income)\n",
    "plt.title('Распределение уровня дохода по клиентам\\n')"
   ]
  },
  {
   "cell_type": "markdown",
   "id": "5a96a8eb",
   "metadata": {},
   "source": [
    "<div class=\"alert alert-info\"> \n",
    " \n",
    " - Большинство клиентов имеют средний достаток"
   ]
  },
  {
   "cell_type": "code",
   "execution_count": 131,
   "id": "efad63c8",
   "metadata": {},
   "outputs": [
    {
     "data": {
      "text/html": [
       "<div>\n",
       "<style scoped>\n",
       "    .dataframe tbody tr th:only-of-type {\n",
       "        vertical-align: middle;\n",
       "    }\n",
       "\n",
       "    .dataframe tbody tr th {\n",
       "        vertical-align: top;\n",
       "    }\n",
       "\n",
       "    .dataframe thead th {\n",
       "        text-align: right;\n",
       "    }\n",
       "</style>\n",
       "<table border=\"1\" class=\"dataframe\">\n",
       "  <thead>\n",
       "    <tr style=\"text-align: right;\">\n",
       "      <th></th>\n",
       "      <th>Всего кредитополучателей</th>\n",
       "      <th>Доля должников</th>\n",
       "      <th>Количество должников</th>\n",
       "    </tr>\n",
       "    <tr>\n",
       "      <th>total_income_category</th>\n",
       "      <th></th>\n",
       "      <th></th>\n",
       "      <th></th>\n",
       "    </tr>\n",
       "  </thead>\n",
       "  <tbody>\n",
       "    <tr>\n",
       "      <th>A</th>\n",
       "      <td>25</td>\n",
       "      <td>0.080000</td>\n",
       "      <td>2</td>\n",
       "    </tr>\n",
       "    <tr>\n",
       "      <th>B</th>\n",
       "      <td>5014</td>\n",
       "      <td>0.070602</td>\n",
       "      <td>354</td>\n",
       "    </tr>\n",
       "    <tr>\n",
       "      <th>C</th>\n",
       "      <td>15921</td>\n",
       "      <td>0.084982</td>\n",
       "      <td>1353</td>\n",
       "    </tr>\n",
       "    <tr>\n",
       "      <th>D</th>\n",
       "      <td>349</td>\n",
       "      <td>0.060172</td>\n",
       "      <td>21</td>\n",
       "    </tr>\n",
       "    <tr>\n",
       "      <th>E</th>\n",
       "      <td>22</td>\n",
       "      <td>0.090909</td>\n",
       "      <td>2</td>\n",
       "    </tr>\n",
       "  </tbody>\n",
       "</table>\n",
       "</div>"
      ],
      "text/plain": [
       "                       Всего кредитополучателей  Доля должников  \\\n",
       "total_income_category                                             \n",
       "A                                            25        0.080000   \n",
       "B                                          5014        0.070602   \n",
       "C                                         15921        0.084982   \n",
       "D                                           349        0.060172   \n",
       "E                                            22        0.090909   \n",
       "\n",
       "                       Количество должников  \n",
       "total_income_category                        \n",
       "A                                         2  \n",
       "B                                       354  \n",
       "C                                      1353  \n",
       "D                                        21  \n",
       "E                                         2  "
      ]
     },
     "metadata": {},
     "output_type": "display_data"
    }
   ],
   "source": [
    "# Выведем сводную таблицу\n",
    "pivot(data, 'total_income_category', 'debt')"
   ]
  },
  {
   "cell_type": "markdown",
   "id": "ec182f71",
   "metadata": {},
   "source": [
    "<div class=\"alert alert-success\" role=\"alert\">\n",
    "\n",
    " - Общая вероятность не вернуть кредит в срок у клиентов по уровню дохода составляет 8%\n",
    " - Клиенты с средним доходом имеют достаточно шанс не вернуть кредит в срок выше среднего - 8.4%, \n",
    "   при этом их доля среди кредитозаемщиков самая высокая.\n",
    " - Клиенты с уровнем дохода B являются достаточно надежежными кредитозаемщиками - они вернут кредит с вероятностью 93%.\n",
    " - Несмотря на то, что клиенты с самым низким доходом имеют самую высокую вероятность не вернуть кредит в срок - 9%, их доля в общем числе клиентов самая низкая (всего 22 человека), поэтому делать выводы по ним нецелесообразно.\n",
    " - Самыми надежными, но малочисленными кредитозаемщиками являются клиенты с уровнем дохода D - 94%.\n"
   ]
  },
  {
   "cell_type": "markdown",
   "id": "99fad8d5",
   "metadata": {},
   "source": [
    "### Зависимость цели кредита и его возврата в срок"
   ]
  },
  {
   "cell_type": "code",
   "execution_count": null,
   "id": "f1cbdcc0",
   "metadata": {},
   "outputs": [],
   "source": [
    "# Выведем возможные цели кредита\n",
    "\n",
    "print(data['purpose_category'].unique())"
   ]
  },
  {
   "cell_type": "code",
   "execution_count": 133,
   "id": "d769ffb6",
   "metadata": {},
   "outputs": [
    {
     "name": "stdout",
     "output_type": "stream",
     "text": [
      "[10751, 3988, 4279, 2313]\n"
     ]
    }
   ],
   "source": [
    "# Выведем количество клиентов по целям кредита\n",
    "\n",
    "client_purpose = [] # список вернет кол-во клиентов по целям кредита\n",
    "for p in data['purpose_category'].unique():\n",
    "    data_sorted = data.loc[data['purpose_category'] == p, 'purpose_category'].count()\n",
    "    client_purpose.append(data_sorted)\n",
    "    \n",
    "print(client_purpose)    "
   ]
  },
  {
   "cell_type": "code",
   "execution_count": 134,
   "id": "1c0f7ec8",
   "metadata": {},
   "outputs": [
    {
     "data": {
      "text/plain": [
       "Text(0.5, 1.0, 'Распределение целей кредита\\n')"
      ]
     },
     "execution_count": 134,
     "metadata": {},
     "output_type": "execute_result"
    },
    {
     "data": {
      "image/png": "[encoded data removed]",
      "text/plain": [
       "<Figure size 432x288 with 1 Axes>"
      ]
     },
     "metadata": {
      "needs_background": "light"
     },
     "output_type": "display_data"
    }
   ],
   "source": [
    "# Посторим диаграмму\n",
    "\n",
    "seaborn.barplot(x = client_purpose, y = data['purpose_category'].unique())\n",
    "plt.title('Распределение целей кредита\\n')"
   ]
  },
  {
   "cell_type": "code",
   "execution_count": 135,
   "id": "045d3730",
   "metadata": {},
   "outputs": [
    {
     "data": {
      "text/html": [
       "<div>\n",
       "<style scoped>\n",
       "    .dataframe tbody tr th:only-of-type {\n",
       "        vertical-align: middle;\n",
       "    }\n",
       "\n",
       "    .dataframe tbody tr th {\n",
       "        vertical-align: top;\n",
       "    }\n",
       "\n",
       "    .dataframe thead th {\n",
       "        text-align: right;\n",
       "    }\n",
       "</style>\n",
       "<table border=\"1\" class=\"dataframe\">\n",
       "  <thead>\n",
       "    <tr style=\"text-align: right;\">\n",
       "      <th></th>\n",
       "      <th>Всего кредитополучателей</th>\n",
       "      <th>Доля должников</th>\n",
       "      <th>Количество должников</th>\n",
       "    </tr>\n",
       "    <tr>\n",
       "      <th>purpose_category</th>\n",
       "      <th></th>\n",
       "      <th></th>\n",
       "      <th></th>\n",
       "    </tr>\n",
       "  </thead>\n",
       "  <tbody>\n",
       "    <tr>\n",
       "      <th>операции с автомобилем</th>\n",
       "      <td>4279</td>\n",
       "      <td>0.093480</td>\n",
       "      <td>400</td>\n",
       "    </tr>\n",
       "    <tr>\n",
       "      <th>операции с недвижимостью</th>\n",
       "      <td>10751</td>\n",
       "      <td>0.072551</td>\n",
       "      <td>780</td>\n",
       "    </tr>\n",
       "    <tr>\n",
       "      <th>получение образования</th>\n",
       "      <td>3988</td>\n",
       "      <td>0.092528</td>\n",
       "      <td>369</td>\n",
       "    </tr>\n",
       "    <tr>\n",
       "      <th>проведение свадьбы</th>\n",
       "      <td>2313</td>\n",
       "      <td>0.079118</td>\n",
       "      <td>183</td>\n",
       "    </tr>\n",
       "  </tbody>\n",
       "</table>\n",
       "</div>"
      ],
      "text/plain": [
       "                          Всего кредитополучателей  Доля должников  \\\n",
       "purpose_category                                                     \n",
       "операции с автомобилем                        4279        0.093480   \n",
       "операции с недвижимостью                     10751        0.072551   \n",
       "получение образования                         3988        0.092528   \n",
       "проведение свадьбы                            2313        0.079118   \n",
       "\n",
       "                          Количество должников  \n",
       "purpose_category                                \n",
       "операции с автомобилем                     400  \n",
       "операции с недвижимостью                   780  \n",
       "получение образования                      369  \n",
       "проведение свадьбы                         183  "
      ]
     },
     "metadata": {},
     "output_type": "display_data"
    }
   ],
   "source": [
    "# Выведем сводную таблицу\n",
    "pivot(data, 'purpose_category', 'debt')"
   ]
  },
  {
   "cell_type": "markdown",
   "id": "de76bc80",
   "metadata": {},
   "source": [
    "<div class=\"alert alert-success\" role=\"alert\">\n",
    "\n",
    " - Общая доля вероятности, что клиенты не вернут кредит в срок по целям кредита - 8%\n",
    " - Самыми рискованными целями кредита для кредитора является получение образования и операции с автомобилем - 9%"
   ]
  },
  {
   "cell_type": "markdown",
   "id": "fd3148ac",
   "metadata": {},
   "source": [
    "# Итоги"
   ]
  },
  {
   "cell_type": "markdown",
   "id": "b69ba194",
   "metadata": {},
   "source": [
    "<div class=\"alert alert-danger\" role=\"alert\">\n",
    "\n",
    " -  Учтем, что что общая вероятность не вернуть кредит вовремя по всем категориям составляет 8%.\n",
    "  \n",
    "**Количество детей**\n",
    " - Клиенты с детьми являются более рисованными кредитозаемщиками, чем клиенты без детей (9% против 7%), при этом клиентов без детей в выборке в 2 раза больше.\n",
    "    \n",
    "**Семейное положение**\n",
    " - По семейному положению самыми рискованными кредитозаемщиками являются люди, состоящие в гражданском браке и холостые.\n",
    "\n",
    "**Доходы**       \n",
    " - Самыми многочисленными категориями клиентов по уровню доходов являются клиенты с уровнем дохода B и C.\n",
    " - Клиенты с уровнем дохода 50-200 тыс. (категория C) составляют самую многочисленную группу, у которой риск невозврата превышает средний всего на 0,3%.\n",
    " - Клиенты с уровнем дохода 200 тыс.–1 млн. (категория В) имеют более низкий риск невозврата - 7%.\n",
    " - Категории B и C занимают почти 98% от всех категорий. Поэтому сделать точные выводы по оставшимся 2% невозможно. Однако категория B составит в данной выборке самых надежных кредитозаемщиков.\n",
    "\n",
    "**Цели**    \n",
    " - Хотелось бы выделить еще одну достаточно многочисленную категорию - клиенты, берущие кредит на операции с недвижимостью. У них вероятность невозврата составляет 7,2%, при том, что доля таких клиентов в выборке - 50%.\n",
    "    \n",
    "      \n",
    "**Итог**    \n",
    " - Возможно, стоит проверить выборку клиентов категории B, без детей, берущих кредит на недвижимость - данная группа вполне может стать самой надежной для кредитора."
   ]
  },
  {
   "cell_type": "code",
   "execution_count": null,
   "id": "ccbe3c15",
   "metadata": {},
   "outputs": [],
   "source": []
  }
 ],
 "metadata": {
  "kernelspec": {
   "display_name": "Python 3 (ipykernel)",
   "language": "python",
   "name": "python3"
  },
  "language_info": {
   "codemirror_mode": {
    "name": "ipython",
    "version": 3
   },
   "file_extension": ".py",
   "mimetype": "text/x-python",
   "name": "python",
   "nbconvert_exporter": "python",
   "pygments_lexer": "ipython3",
   "version": "3.9.12"
  },
  "toc": {
   "base_numbering": 1,
   "nav_menu": {},
   "number_sections": true,
   "sideBar": true,
   "skip_h1_title": false,
   "title_cell": "Table of Contents",
   "title_sidebar": "Contents",
   "toc_cell": false,
   "toc_position": {
    "height": "calc(100% - 180px)",
    "left": "10px",
    "top": "150px",
    "width": "303.837px"
   },
   "toc_section_display": true,
   "toc_window_display": true
  }
 },
 "nbformat": 4,
 "nbformat_minor": 5
}
